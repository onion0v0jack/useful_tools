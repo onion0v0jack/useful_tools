{
 "cells": [
  {
   "cell_type": "code",
   "execution_count": 2,
   "metadata": {},
   "outputs": [],
   "source": [
    "import re\n",
    "import os\n",
    "import win32com.client"
   ]
  },
  {
   "cell_type": "code",
   "execution_count": 31,
   "metadata": {},
   "outputs": [
    {
     "name": "stdout",
     "output_type": "stream",
     "text": [
      "[<COMObject <unknown>>, <COMObject <unknown>>, <COMObject <unknown>>]\n"
     ]
    }
   ],
   "source": [
    "folder = r'D:\\Topunion_KJ\\Python_related\\outlook收信測試\\test'\n",
    "# foleder = r'\\\\192.168.1.20\\業務訂單資訊共用檔\\3AL-高通\\PO'\n",
    "subject_rule = '^(高通新需求)(.*?)(檔案)$'\n",
    "\n",
    "outlook = win32com.client.Dispatch('Outlook.Application').GetNamespace('MAPI')\n",
    "inbox = outlook.Folders['KJ-2021A'].Folders['收件匣'].Folders['部門委託'].Folders['李蕙安']\n",
    "items = inbox.Items.Restrict('[UnRead] = True') # 抓取 Inbox 未讀取郵件\n",
    "sub = [i for i in items if any(re.findall(subject_rule, i.Subject, re.IGNORECASE))]\n",
    "mail = [i for i in sub if i.Attachments.Count > 0] # 判斷是否有附件\n",
    "print(sub)"
   ]
  },
  {
   "cell_type": "code",
   "execution_count": 32,
   "metadata": {},
   "outputs": [
    {
     "name": "stdout",
     "output_type": "stream",
     "text": [
      "2021 12月\n",
      "1217\n",
      "2022 01月\n",
      "0111\n",
      "2022 01月\n",
      "0111\n"
     ]
    }
   ],
   "source": [
    "m, n = 0, 0\n",
    "for i in mail:\n",
    "    i.UnRead = False # 將郵件標示為讀取\n",
    "    m += 1\n",
    "    tfg1 = i.SentOn.strftime('%Y %m月') # 收件時間戳記\n",
    "    tfg2 = i.SentOn.strftime('%m%d') # 收件時間戳記\n",
    "    try:\n",
    "        for j in i.Attachments:\n",
    "            if j.FileName.rsplit('.')[-1].lower() in ['pdf', 'xlsx', 'xls']: # 附件格式 pdf 才存檔\n",
    "                if not os.path.exists(os.path.join(folder, tfg1)):\n",
    "                    os.mkdir(os.path.join(folder, tfg1))\n",
    "                if not os.path.exists(os.path.join(folder, tfg1, tfg2)):\n",
    "                    os.mkdir(os.path.join(folder, tfg1, tfg2))\n",
    "                    j.SaveAsFile(os.path.join(folder, tfg1, tfg2, j.FileName))\n",
    "                    n += 1\n",
    "            else:\n",
    "                continue\n",
    "    except:\n",
    "        pass\n",
    "print(f'程式執行完成，共讀取 {m} 封信並儲存 {n} 個檔案。')"
   ]
  },
  {
   "cell_type": "code",
   "execution_count": null,
   "metadata": {},
   "outputs": [],
   "source": []
  },
  {
   "cell_type": "code",
   "execution_count": null,
   "metadata": {},
   "outputs": [],
   "source": []
  }
 ],
 "metadata": {
  "kernelspec": {
   "display_name": "Python 3",
   "language": "python",
   "name": "python3"
  },
  "language_info": {
   "codemirror_mode": {
    "name": "ipython",
    "version": 3
   },
   "file_extension": ".py",
   "mimetype": "text/x-python",
   "name": "python",
   "nbconvert_exporter": "python",
   "pygments_lexer": "ipython3",
   "version": "3.8.8"
  }
 },
 "nbformat": 4,
 "nbformat_minor": 4
}
