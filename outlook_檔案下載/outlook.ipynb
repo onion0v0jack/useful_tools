{
 "cells": [
  {
   "cell_type": "markdown",
   "metadata": {},
   "source": [
    "## 讀取含有設定字元的標題之信件並下載附件"
   ]
  },
  {
   "cell_type": "code",
   "execution_count": 1,
   "metadata": {},
   "outputs": [
    {
     "data": {
      "text/plain": [
       "'2021/06/25 17:06 匯出紀錄:\\nJudy Sung [宋佩眞]|歡迎加入泰詠的行列！|05/18 10:11\\n--> 附檔: 新人導引指南(110.4.19).pdf\\nLydia Chen [陳麗君]|（麗君OK，無內文） RE: HR目前因應疫情，建備完整的連絡資訊，請各位確認自己的資訊是否正確，謝謝~|05/18 08:54\\nLisa Lin [林逸嬅]|RE: HR目前因應疫情，建備完整的連絡資訊，請各位確認自己的資訊是否正確，謝謝~|05/18 08:47\\nMinter Hsieh [謝敏塘]|SAP 資料|05/19 11:29\\nVicky Chou [周美津]|（股東會的防疫計劃）公司股東會即將於5月27日(四)召開，請各位一起共襄盛舉，請協助以下項目，謝謝。|05/20 11:03\\nChen KJ|測試信|05/20 11:36\\nJoanie Yu [余翠玲]|RE: QC使用問題反饋-增加DIP/組測隨線QC問題|05/21 15:10\\nSean Cheng [鄭志雄]|RE: QC使用問題反饋-增加DIP/組測隨線QC問題|05/21 15:49\\nJoanie Yu [余翠玲]|RE: QC使用問題反饋-增加DIP/組測隨線QC問題|05/21 16:07\\nPapa Chiu [邱思慧]|RE: MES成品出貨無法使用|05/25 14:34\\nSean Cheng [鄭志雄]|RE: MES成品出貨無法使用|05/25 14:25\\nPapa Chiu [邱思慧]|MES成品出貨無法使用|05/25 13:59\\nVicky Chou [周美津]|5/26（三）早上9點【資訊部—相關進行項目之議題討論】若此時間有任何不妥，請再告訴我，謝謝~|05/26 08:11\\nJoan Wu [吳佳謹]|RE: QC使用問題反饋-增加DIP/組測隨線QC問題|05/26 13:21\\nPapa Chiu [邱思慧]|RE: MES成品出貨無法使用|05/26 14:01\\nTina Lin [林月美]|   麻煩請幫我安裝  SAP|05/28 16:38\\nMinter Hsieh [謝敏塘]|RE: python安裝SOP|05/28 16:38\\nFang Shen [沈淑芳]|RE: 退料系統異常|05/30 14:24\\nSean Cheng [鄭志雄]|RE: 退料系統異常|05/30 13:42\\nMars Liu [劉凱綸]|高通-請協助建立儲位|06/01 23:33\\nSean Cheng [鄭志雄]|RE: 高通-請協助建立儲位|06/02 08:23\\nVicky Chou [周美津]|6/2(三)下午4點【資訊部相關議題討論】|06/02 13:18\\nSean Cheng [鄭志雄]|RE: SHURE 無法上傳MES|06/02 16:34\\nVicky Chou [周美津]|5月原料庫存為5.89億(排除暫存倉)、在外PO有9.5億，5月原料庫存較4月↑4,514萬|06/02 17:41\\nWendy Hung [洪巧紜]|123|06/04 09:03\\nWendy Hung [洪巧紜]|RE: 123|06/04 09:15\\nWendy Hung [洪巧紜]|RE: 123|06/04 09:20\\nWendy Hung [洪巧紜]|RE: 123|06/04 09:29\\nMinter Hsieh [謝敏塘]|How to close a pop-up window from other application with python script|06/04 11:56\\nKyria Wang [王荃]|RE: 薪資計算方式確認|06/07 08:49\\nJohn Tsai [蔡國榮]|sap剛入庫不見!!!|06/07 09:52\\nKyria Wang [王荃]|RE: 薪資計算方式確認|06/07 10:04\\nKyria Wang [王荃]|RE: 薪資計算方式確認|06/07 10:14\\nKyria Wang [王荃]|RE: 薪資計算方式確認|06/07 10:34\\nKate Peng [彭美華]|RE: sap剛入庫不見!!!|06/07 11:37\\nJohn Tsai [蔡國榮]|RE: sap剛入庫不見!!!|06/07 13:14\\nKyria Wang [王荃]|RE: test|06/09 08:56\\nKyria Wang [王荃]|RE: test|06/09 09:28\\nKyria Wang [王荃]|RE: test|06/09 09:52\\nKyria Wang [王荃]|RE: test|06/09 10:02\\nKyria Wang [王荃]|FW: Take5people－泰詠電子股份有限公司 -人資系統服務介紹|06/10 11:34\\nHanny Chien [簡含霓]|RE: 協助建立華碩業務MAIL群組|06/11 11:32\\nSean Cheng [鄭志雄]|RE: 協助建立華碩業務MAIL群組|06/11 11:43\\nKJ Chen [陳可捷]|test|06/11 11:44\\nAngel Tsai [蔡佳琪]|面罩導入要求|06/15 15:04\\nErin Tai [戴玨]|新進人員職安衛訓練|06/15 16:01\\n--> Skip, 檔案無法解析 Picture (Device Independent Bitmap)\\nSean Cheng [鄭志雄]|RE: 1100020319工單，出現無物料 3AL-20-PH200-H225 工廠 1000 其選擇條件的有效任務清單|06/16 08:06\\nVicky Chou [周美津]|1100020319工單，出現無物料 3AL-20-PH200-H225 工廠 1000 其選擇條件的有效任務清單|06/16 07:50\\nBetty Pan [潘香蘭]|RE: 6/9 需求增加~RE: 20210603-T-CODE: ZMM016進口記錄-資料消失~FW: 請修改稅單資訊，謝謝。|06/15 22:07\\nVicky Chou [周美津]|RE: 1100020319工單，出現無物料 3AL-20-PH200-H225 工廠 1000 其選擇條件的有效任務清單|06/16 08:13\\nVicky Chou [周美津]|【泰詠_RPA流程_業務通知生管開立工單之規則確認】(請業務今日再確認回覆，是否尚有不足之欄位，謝謝！）|06/16 08:21\\nMinter Hsieh [謝敏塘]|RE: 1100020319工單，出現無物料 3AL-20-PH200-H225 工廠 1000 其選擇條件的有效任務清單|06/16 08:28\\nVicky Chou [周美津]|RE: 1100020319工單，出現無物料 3AL-20-PH200-H225 工廠 1000 其選擇條件的有效任務清單|06/16 08:30\\nSean Cheng [鄭志雄]|RE: (開會資料） 6/15(二)早上11點【漢門SSRS報表平台專案KICK-OFF會議】。|06/16 08:33\\nVicky Chou [周美津]|SAP相關問題—工單異常資訊，請顧問協助如何排除，謝謝！|06/16 08:42\\nMinter Hsieh [謝敏塘]|RE: 1100020319工單，出現無物料 3AL-20-PH200-H225 工廠 1000 其選擇條件的有效任務清單|06/16 08:44\\nVicky Chou [周美津]|(請依此份為準，謝謝！） SAP相關問題—工單異常資訊，請顧問協助如何排除，謝謝！|06/16 08:49\\nVicky Chou [周美津]|RE: 1100020319工單，出現無物料 3AL-20-PH200-H225 工廠 1000 其選擇條件的有效任務清單|06/16 08:55\\nMinter Hsieh [謝敏塘]|RE: 1100020319工單，出現無物料 3AL-20-PH200-H225 工廠 1000 其選擇條件的有效任務清單|06/16 08:58\\nstevechang@tnmail.eai.com.tw|RE: (開會資料） 6/15(二)早上11點【漢門SSRS報表平台專案KICK-OFF會議】。|06/16 09:38\\nWendy Hung [洪巧紜]|RE: 閒聊|06/16 09:37\\nShirley Lin [林軒儂]|RE: 關於昨天收不太信的問題|06/16 09:38\\nWendy Hung [洪巧紜]|RE: 閒聊|06/16 09:44\\nKJ Chen [陳可捷]|RE: 閒聊|06/16 09:50\\nstevechang@tnmail.eai.com.tw|RE: (開會資料） 6/15(二)早上11點【漢門SSRS報表平台專案KICK-OFF會議】。|06/16 09:53\\nWendy Hung [洪巧紜]|RE: 閒聊|06/16 09:52\\nVicky Chou [周美津]|RE: (開會資料） 6/15(二)早上11點【漢門SSRS報表平台專案KICK-OFF會議】。|06/16 09:56\\nSean Cheng [鄭志雄]|RE: (開會資料） 6/15(二)早上11點【漢門SSRS報表平台專案KICK-OFF會議】。|06/16 10:01\\nIvy Wu [吳羿蓁]|RE: 1100020319工單，出現無物料 3AL-20-PH200-H225 工廠 1000 其選擇條件的有效任務清單|06/16 10:19\\nMinter Hsieh [謝敏塘]|RE: 1100020319工單，出現無物料 3AL-20-PH200-H225 工廠 1000 其選擇條件的有效任務清單|06/16 10:21\\nIvy Wu [吳羿蓁]|RE: 1100020319工單，出現無物料 3AL-20-PH200-H225 工廠 1000 其選擇條件的有效任務清單|06/16 10:28\\nIvy Wu [吳羿蓁]|RE: 1100020319工單，出現無物料 3AL-20-PH200-H225 工廠 1000 其選擇條件的有效任務清單|06/16 13:32\\nPapa Chiu [邱思慧]|MES無法傳送出貨資料|06/16 15:06\\nSean Cheng [鄭志雄]|RE: Production Record Item 新增兩個MAC途程|06/16 18:20\\nJames Fan [范火煉]|RE: Production Record Item 新增兩個MAC途程|06/17 08:45\\nVicky Chou [周美津]|【泰詠_RPA流程_業務通知生管開立工單之規則確認】(6/17起，請用此格式檔案提供，謝謝!)|06/17 08:54\\nMinter Hsieh [謝敏塘]|RE: 【泰詠_RPA流程_業務通知生管開立工單之規則確認】(6/17起，請用此格式檔案提供，謝謝!)|06/17 09:02\\nBetty Pan [潘香蘭]|RE: 6/9 需求增加~RE: 20210603-T-CODE: ZMM016進口記錄-資料消失~FW: 請修改稅單資訊，謝謝。|06/17 12:09\\nLyu, Connie L.|RE:    【泰�_RPA流程_��通知生管�立工�之����】(6/17起，�用此格式�案提供，��!)|06/17 13:39\\n王文軒 Vic Wang|RE: 6/9 需求增加~RE: 20210603-T-CODE: ZMM016進口記錄-資料消失~FW: 請修改稅單資訊，謝謝。|06/17 14:10\\nKelly Chang [張台麗]|-T-CODE: ZMM016進口記錄問題|06/17 15:45\\nSpam|「正常信」通知 2021-06-17 16:00|06/17 16:00\\nszmis@top-union-sz.com|[MailServer Resend] Resending quarantined email -- use caution when opening.（三廠皆尚未提供，請明天提供） SAP工單大批上傳用料ZPP044，已轉至正式區，請進行實際操作，若確認沒有問題，6/5前三廠倉管提供能規格書 & 測試報告的簽核電子檔|06/18 09:00\\nSpam|「正常信」通知 2021-06-18 08:00|06/18 08:00\\nszmis@top-union-sz.com|[MailServer Resend] Resending quarantined email -- use caution when opening.（三廠皆尚未提供，請明天提供） SAP工單大批上傳用料ZPP044，已轉至正式區，請進行實際操作，若確認沒有問題，6/5前三廠倉管提供能規格書 & 測試報告的簽核電子檔|06/18 07:58\\nVicky Chou [周美津]|RE: 4/22(四)下午1點半【報表工具發展的系統專案討論Ⅳ】會議前update各單位之的管理報表，謝謝~|06/17 23:38\\nAdministrator|[MailServer Notification]Attachment Blocking Notification|06/17 23:32\\nVicky Chou [周美津]|（三廠皆尚未提供，請明天提供） SAP工單大批上傳用料ZPP044，已轉至正式區，請進行實際操作，若確認沒有問題，6/5前三廠倉管提供能規格書 & 測試報告的簽核電子檔|06/17 23:29\\nHan-Ming Lin[林漢銘]|【總廠務訊息】6/18 (五) 下午01:00 黏著機 MOVE IN 進廠，請相關單位協助與配合。surface mounting machine MOVE IN enters the factory, please assist and cooperate with relevant units.|06/17 23:11\\nSpam|「正常信」通知 2021-06-17 20:00|06/17 20:00\\neddy_chen@infofab.com|RE: SAP工單大批上傳用料ZPP044，已轉至正式區，請進行實際操作，若確認沒有問題，6/5前三廠倉管提供能規格書 & 測試報告的簽核電子檔|06/17 17:47\\nSean Cheng [鄭志雄]|FW: 財務部【110年年中固定資產盤點起始會議通知】-盤點清冊|06/18 11:29\\nSpam|「正常信」通知 2021-06-18 12:00|06/18 12:00\\n泰永-资材部-唐小云|答复: （三廠皆尚未提供，請明天提供） SAP工單大批上傳用料ZPP044，已轉至正式區，請進行實際操作，若確認沒有問題，6/5前三廠倉管提供能規格書 & 測試報告的簽核電子檔|06/18 13:17\\n--> 附檔: DOC061821-06182021131413.pdf\\nKaren Keng [耿凱祺]|20210621~0625週菜單|06/18 13:51\\nWendy Hung [洪巧紜]|FW: Message from \"3ITPSC1\"|06/18 14:50\\n--> 附檔: 20210618144201209.pdf\\n王文軒 Vic Wang|RE: -T-CODE: ZMM016進口記錄問題|06/18 15:36\\nSpam|「正常信」通知 2021-06-18 16:00|06/18 16:00\\n泰咏-资材部物管-秦志珍|=?UTF-8?B?UmU6IOetlOWkjTog77yI5LiJ5bug55qG5bCa5pyq5o+Q5L6b77yM6KuL5piO5aSp5o+Q5L6b77yJIFNBUOW3peWWruWkp+aJueS4iuWCs+eUqOaWmVpQUDA0NO+8jOW3sui9ieiHs+ato+W8j+WNgO+8jOiri+mAsuihjOWvpumam+aTjeS9nO+8jOiLpeeiuuiqjeaykuacieWVj+mhjO+8jDYvNeWJjeS4ieW7oOWAieeuoe...|06/18 16:38\\n--> 附檔: 20210618165711-0001.pdf\\nSean Cheng [鄭志雄]|新增一個同亨收信群組|06/19 17:24\\nSpam|「正常信」通知 2021-06-18 20:00|06/18 20:00\\n泰咏-资材部物管-秦志珍|=?UTF-8?B?5LiJ5bug55qG5bCa5pyq5o+Q5L6b77yM6KuL5piO5aSp5o+Q5L6b77yJIFNBUOW3peWWruWkp+aJueS4iuWCs+eUqOaWmVpQUDA0NO+8jOW3sui9ieiHs+ato+W8j+WNgO+8jOiri+mAsuihjOWvpumam+aTjeS9nO+8jOiLpeeiuuiqjeaykuacieWVj+mhjO+8jDYvNeWJjeS4ieW7oOWAieeuoeaPkOS+m+iDveimj+agvO...|06/18 19:42\\nLisa Lin [林逸嬅]|盤點清冊請今日務必繳交!|06/21 09:02\\nJoe Liao [廖啟洋]|RE: 新增一個同亨收信群組|06/21 09:07\\n王文軒 Vic Wang|RE: -T-CODE: ZMM016進口記錄問題|06/21 10:49\\nVicky Chou [周美津]|請業務需要開立工單，請務必按「新的模板」填寫提供。（泰詠_生管流程同步驗證前需求與注意事項）|06/21 10:55\\nSpam|「正常信」通知 2021-06-21 12:00|06/21 12:00\\nBetty Pan [潘香蘭]|RE: -T-CODE: ZMM016進口記錄問題|06/21 14:05\\n王文軒 Vic Wang|RE: -T-CODE: ZMM016進口記錄問題|06/21 16:42\\nVicky Chou [周美津]|【RPA流程自動化_生管開立MO後，以訂單變更單模板回寫MO到銷售訂單】(不好意思，此項需求取消，謝謝！）|06/21 22:51\\nSpam|「正常信」通知 2021-06-21 20:00|06/21 20:00\\nSean Cheng [鄭志雄]|FW: Message from \"3ITPSC1\"|06/21 19:33\\n--> 附檔: 20210621192513617.pdf\\nSean Cheng [鄭志雄]|FW: Message from \"3ITPSC1\"|06/21 19:33\\n--> 附檔: 20210621192528295.pdf\\nBetty Pan [潘香蘭]|RE: -T-CODE: ZMM016進口記錄問題|06/21 17:44\\n王文軒 Vic Wang|RE: -T-CODE: ZMM016進口記錄問題|06/21 17:33\\nBetty Pan [潘香蘭]|RE: -T-CODE: ZMM016進口記錄問題|06/21 17:13\\nLi, Laura W.|RE:  請業務需要開立工單，請務必按「新的模板」填寫提供。（泰詠_生管流程同步驗證前需求與注意事項）|06/22 09:34\\nVicky Chou [周美津]|6/24下午1點【漢門SSRS報表工具—專案進行項目討論】若此時間有任何不妥，請再告訴我，謝謝。|06/22 09:44\\n王文軒 Vic Wang|RE: -T-CODE: ZMM016進口記錄問題|06/22 10:25\\nBetty Pan [潘香蘭]|RE: -T-CODE: ZMM016進口記錄問題|06/22 11:46\\nKelly Chang [張台麗]|RE: -T-CODE: ZMM016進口記錄問題|06/22 11:44\\nSpam|「正常信」通知 2021-06-22 12:00|06/22 12:00\\nMinter Hsieh [謝敏塘]|Outlook|06/22 13:39\\nSpam|「正常信」通知 2021-06-23 08:00|06/23 08:00\\n王文軒 Vic Wang|[泰詠]FS-MM-RT-2021004 調整分類VIEW 大批上傳客製|06/23 00:26\\nJoanie Yu [余翠玲]|新竹廠 MES系統反饋機制協助|06/22 22:49\\nSean Cheng [鄭志雄]|RE:  請幫忙~~急~|06/22 18:25\\nVicky Chou [周美津]|生管RPA作業流程：業務開立工單需求，以下需要妳們協助確認及回覆，謝謝！|06/23 09:50\\nErin Tai [戴玨]|【公告Announcement】人事懲處 Personnel punishment|06/23 11:19\\n--> 附檔: TU2021003.pdf\\nHanny Chien [簡含霓]|RE: 生管RPA作業流程：業務開立工單需求，以下需要妳們協助確認及回覆，謝謝！|06/23 11:31\\n泰永-资讯部-程发贵|答复: 新竹廠 MES系統反饋機制協助|06/23 14:07\\n阿里雲活動小組|【立即註冊觀看】同事總是抱怨連回總部辦公應用服務很卡？|06/23 14:52\\n阿里雲活動小組|【立即註冊觀看】同事總是抱怨連回總部辦公應用服務很卡？|06/23 14:52\\nSpam|「正常信」通知 2021-06-23 16:00|06/23 16:00\\nJoanie Yu [余翠玲]|RE: 新竹廠 MES系統反饋機制協助|06/23 22:17\\nVicky Chou [周美津]|(正式區確認OK） SAP相關問題—工單異常資訊，請顧問協助如何排除，謝謝！|06/23 22:09\\nKJ Chen [陳可捷]|outlook python mail test|06/24 08:59\\nKJ Chen [陳可捷]|用python幫outlook寄信測試|06/24 09:24\\nWendy Hung [洪巧紜]|RE: 用python幫outlook寄信測試|06/24 09:47\\nTricia Chen [陳元春]|RE: [泰詠]FS-MM-RT-2021004 調整分類VIEW 大批上傳客製|06/24 16:04\\n王文軒 Vic Wang|RE: [泰詠]FS-MM-RT-2021004 調整分類VIEW 大批上傳客製|06/24 16:22\\nEllen Du [杜苡瑄]|華碩  入料標簽導入QR Code  |06/24 16:34\\n--> 附檔: 二維碼導入說明.pdf\\nHanny Chien [簡含霓]|RE: 華碩  入料標簽導入QR Code  |06/24 16:46\\nMars Liu [劉凱綸]|高通-請協助建立儲位|06/25 02:08\\nSean Cheng [鄭志雄]|RE: 華碩  入料標簽導入QR Code  |06/24 20:09\\nSpam|「正常信」通知 2021-06-24 20:00|06/24 20:00\\nVicky Chou [周美津]|6/25(五)早上8點半【RPA作業流程：業務開立工單需求—目前執行後之狀況討論】若此時間有任何不妥，請再提出，謝謝。|06/24 18:03\\n--> Skip, 檔案無法解析 Picture (Device Independent Bitmap)\\nVicky Chou [周美津]|6/29下午２點【RPA流程自動化—生管重工工單作業討論】|06/24 17:35\\n--> Skip, 檔案無法解析 Picture (Device Independent Bitmap)\\nSean Cheng [鄭志雄]||06/25 08:47\\n--> 附檔: 手機設定收發公司email之設定說明.pdf\\n--> 附檔: iphone設定email.pdf\\nMiranda Kuo [郭姵佳]|test|06/25 08:48\\nVicky Chou [周美津]|Canceled: 改6/25(五)下午4點【RPA作業流程：業務開立工單需求—目前執行後之狀況討論】若此時間有任何不妥，請再提出，謝謝。|06/25 09:06\\n--> Skip, 檔案無法解析 Picture (Device Independent Bitmap)\\nSean Cheng [鄭志雄]|RE: 華碩  入料標簽導入QR Code  |06/25 10:11\\n--> 附檔: 泰詠料件識別條碼管理系統-.pdf\\nCharles Huang [黃旻盛]|RE: 華碩  入料標簽導入QR Code  |06/25 10:57\\n王文軒 Vic Wang| [泰詠]FS-MM-RT-2021003-列印SHURE的Invoice & Credit note程式增強|06/25 11:15\\nMiranda Kuo [郭姵佳]|RE: iPhone 7 plus 手機綁定outlook新增帳戶步驟|06/25 11:12\\nDaniel Cai (蔡慧旦_ATSZ)|RE: 華碩  入料標簽導入QR Code  |06/25 11:33\\nSpam|「正常信」通知 2021-06-25 12:00|06/25 12:00\\nTricia Chen [陳元春]|FW: 製造商零件清單|06/25 12:15\\nVicky Chou [周美津]|RE:  [泰詠]FS-MM-RT-2021003-列印SHURE的Invoice & Credit note程式增強|06/25 13:47\\n王文軒 Vic Wang|RE:  [泰詠]FS-MM-RT-2021003-列印SHURE的Invoice & Credit note程式增強|06/25 14:04\\nVicky Chou [周美津]|FW: 泰詠ssrs專案-資料內容討論紀錄2021/6/24|06/25 14:21\\nLisa Lin [林逸嬅]|資產是否有做移轉!|06/25 14:44\\nVicky Chou [周美津]| [泰詠]FS-MM-RT-2021003-列印SHURE的Invoice & Credit note程式增強 (請曉廉6/29(二)中午前回覆程式增強的規格書，謝謝。）|06/25 14:50\\nLisa Lin [林逸嬅]|盤點找不到的資產請再確認!|06/25 15:05\\nVicky Chou [周美津]|7/1(四)下午1點【漢門SSRS報表工具—專案進行項目討論Ⅱ】若此時間有任何不妥，請再告訴我，謝謝。|06/25 15:17\\n--> Skip, 檔案無法解析 Picture (Device Independent Bitmap)\\nSean Cheng [鄭志雄]|請再詳述IPN-MPN批量上傳需求。|06/25 15:32\\nJoe Liao [廖啟洋]|連力測試資料查詢問題|06/25 15:57\\nSpam|「正常信」通知 2021-06-25 16:00|06/25 16:00\\nLisa Lin [林逸嬅]|多部門資產已移轉資訊部，請您再確認實務!|06/25 16:23\\n'"
      ]
     },
     "execution_count": 1,
     "metadata": {},
     "output_type": "execute_result"
    }
   ],
   "source": [
    "# %%time    # ipython語法，將會給出cell的代碼運行一次所花費的時間。\n",
    "import configparser\n",
    "import easygui as g\n",
    "import win32com.client\n",
    "from pathlib import Path\n",
    "from datetime import date, datetime, timedelta\n",
    "from sys import exit\n",
    "\n",
    "# 把預設檔內的資料編輯成字典\n",
    "cfg = configparser.ConfigParser()\n",
    "cfg.read(r'outlook.ini', encoding = 'utf_8_sig')\n",
    "cfg = cfg['DEFAULT']\n",
    "cfg_dict = {i: (cfg.get(i)) for i in cfg}\n",
    "\n",
    "# 給預設的防呆\n",
    "if len(cfg_dict) < 5:\n",
    "    readfolder = 'Inbox'   # 抓取郵件資料夾，預設為Inbox\n",
    "    subject = None         # 預設標題包含的字串\n",
    "    startdate = 14         # 抓多少天的信\n",
    "    savefolderpath = 'D:\\Outlook' # 信中附件要存的地方\n",
    "    logfilename = 'D:\\log.txt'    # 使用紀錄檔案\n",
    "\n",
    "# 把 cfg 檔中的key都直接轉變數，其值為val\n",
    "for key, val in cfg_dict.items(): \n",
    "    locals()[key] = val\n",
    "\n",
    "Path(savefolderpath).mkdir(parents = True, exist_ok = True) # 目錄不存在的話，就建立(parents=True允許父目錄不存在)\n",
    "sdt = (date.today() - timedelta(days = int(startdate))).strftime('%Y/%m/%d') # 多少天前，start date\n",
    "msg = '郵件篩選規則'\n",
    "title = '請輸入'\n",
    "fields =  ['郵件資料夾 (預設)','郵件標題包含字元','收件時間 >= (年/月/日)','檔案儲存路徑']\n",
    "values = [readfolder, subject, sdt, savefolderpath]\n",
    "fv = g.multenterbox(msg, title, fields, values)     # 跳出 多輸入框 (按下取消回傳None，按下確定回傳包含內部所有數值的list)\n",
    "\n",
    "while True:\n",
    "    if fv is None:\n",
    "        g.msgbox(msg = '作業取消')   # 跳出 message box\n",
    "        exit(0)\n",
    "    errmsg = ''\n",
    "    for i in range(len(fv)):        # 檢查輸入是否有漏\n",
    "        if fv[i].strip() == '':     # 若字串去除前後空格後為空值，回傳該欄位為必要之訊息\n",
    "            errmsg += ('\"%s\" 是必要欄位.\\n\\n' % fields[i])  \n",
    "    if errmsg == '':                # 代表檢查無誤 直接跳出while迴圈進入下一步\n",
    "        break\n",
    "    fv = g.multenterbox(errmsg, title, fields, values)     # 否則就要再key資料\n",
    "\n",
    "# 跳出多選欄位，選擇後按下確定會回傳所選項目的list\n",
    "ft = g.multchoicebox(\n",
    "    msg = '附件檔案類型', \n",
    "    title = '至少選擇一個', \n",
    "    choices = ['pdf','xls','ppt','doc','msg','txt','csv','zip','7z','rar']\n",
    ")\n",
    "if ft is None:\n",
    "    g.msgbox(msg = '作業取消')\n",
    "    exit(0)\n",
    "\n",
    "\n",
    "outlook = win32com.client.Dispatch('Outlook.Application').GetNamespace('MAPI')\n",
    "\n",
    "# for i in range(90):     # 可以看到GetDefaultFolder中不同數字對應不同的區塊(但非每個數字都有對應)\n",
    "#     try: print('{}     {}'.format(i, outlook.GetDefaultFolder(i)))\n",
    "#     except: continue\n",
    "        \n",
    "if fv[0].lower() == 'inbox':  # 確定郵件資料夾名稱\n",
    "    inbox = outlook.GetDefaultFolder(6)\n",
    "else:\n",
    "    inbox = outlook.GetDefaultFolder(6).Folders[fv[0]]   # 收件夾內部的資料夾\n",
    "\n",
    "# Filter = (\"@SQL=\" + chr(34) + \"urn:schemas:httpmail:subject\" + chr(34) + \" Like '%RPA%' AND \" + chr(34) + \"urn:schemas:httpmail:datereceived\" + chr(34) + \"> '2021/02/01' AND\" + chr(34) + \"urn:schemas:httpmail:hasattachment\" + chr(34) + \"=1\")\n",
    "\n",
    "# 此為DASL查詢語法\n",
    "Filter = ('@SQL=' + chr(34) + \"urn:schemas:httpmail:subject\" +      # chr(34) 是 \" 這個符號\n",
    "                    chr(34) + \" Like '%\" + fv[1] + \"%' AND \" + \n",
    "                    chr(34) + \"urn:schemas:httpmail:datereceived\" + \n",
    "                    chr(34) + \"> '\" + fv[2] + \"' AND\" +\n",
    "                    chr(34) + \"urn:schemas:httpmail:hasattachment\" + \n",
    "                    chr(34) + \"= 1\")\n",
    "\n",
    "items = inbox.Items#.Restrict(Filter) # 篩選郵件\n",
    "# items.Sort('[ReceivedTime]', True) # 依照收件日期由新到舊排序\n",
    "\n",
    "with open(logfilename, 'a+', encoding = 'utf_8_sig') as log:  # 用a+是將資料讀寫在舊檔案之後\n",
    "    print(datetime.now().strftime('%Y/%m/%d %H:%M 匯出紀錄:'), file = log)  # print 在 log 中\n",
    "    for i in items: # 掃每一封信\n",
    "        # SenderName: 寄件者\n",
    "        # Subject: 主旨\n",
    "        # SentOn: 寄件時間\n",
    "        # Attachments: 檢查內部所有的附件(包含圖片)，如果要附件\"名稱\"，需要在後面加\".FileName\"\n",
    "        print('|'.join([i.SenderName, i.Subject, i.SentOn.strftime('%m/%d %H:%M')]), file = log) # join為將list內的元素轉成str並用前面的符號隔開\n",
    "        try:\n",
    "            for j in i.Attachments:\n",
    "                if j.FileName.rsplit('.', 1)[-1][:3] in ft: # 附檔格式符合才存檔\n",
    "                    print('--> 附檔:', j.FileName, file = log)\n",
    "                    j.SaveAsFile(fv[3] + '\\\\' + j.FileName)  # fv[3] 為路徑\n",
    "                else:\n",
    "                    continue\n",
    "        except:\n",
    "            print('--> Skip, 檔案無法解析', j.DisplayName, file = log)\n",
    "            pass\n",
    "\n",
    "with open(logfilename, encoding = 'utf_8_sig') as f:\n",
    "    l_msg = f.readlines()       # 讀取log裡面的全部內容\n",
    "\n",
    "lix = l_msg.index(''.join([i for i in l_msg if ' 匯出紀錄:' in i][-1]))\n",
    "lmsg = l_msg[lix:]\n",
    "g.textbox(msg = '匯出紀錄', title = '此次使用匯出紀錄', text = ''.join(lmsg))   # 跳出包含log內容的text box"
   ]
  },
  {
   "cell_type": "markdown",
   "metadata": {},
   "source": [
    "## 寄信"
   ]
  },
  {
   "cell_type": "code",
   "execution_count": 14,
   "metadata": {},
   "outputs": [],
   "source": [
    "import win32com.client\n",
    "import warnings\n",
    "import sys\n",
    "import pythoncom\n",
    "\n",
    "warnings.filterwarnings('ignore')\n",
    "pythoncom.CoInitialize()\n",
    "\n",
    "sub = '用python幫outlook寄信測試'\n",
    "body = '主旨'\n",
    "receivers = ['kj_chen@topunion.com.tw;onion0v0jack@gmail.com']   # 多人用;隔開  wendy_hung@topunion.com.tw\n",
    "atta_list = [r'D://Topunion_KJ//Python_related//outlook_file_downloader//testfile.txt']\n",
    "\n",
    "\n",
    "def sendmail(subject, body, receivers, atta_list):\n",
    "    outlook = win32com.client.Dispatch('outlook.application')\n",
    "    mail = outlook.CreateItem(0)\n",
    "    mail.To = receivers[0]\n",
    "    mail.Subject = subject#.decode('utf-8')    # 主旨\n",
    "    mail.Body = body#.decode('utf-8')      # 內文\n",
    "    for atta in atta_list:\n",
    "        mail.Attachments.Add(atta)   # 附件\n",
    "    mail.Send()\n",
    "\n",
    "sendmail(subject = sub, body = body, receivers = receivers, atta_list = atta_list)\n"
   ]
  },
  {
   "cell_type": "code",
   "execution_count": 18,
   "metadata": {},
   "outputs": [
    {
     "data": {
      "text/plain": [
       "0.3012831993540648"
      ]
     },
     "execution_count": 18,
     "metadata": {},
     "output_type": "execute_result"
    }
   ],
   "source": [
    "164917510/547383692"
   ]
  },
  {
   "cell_type": "code",
   "execution_count": null,
   "metadata": {},
   "outputs": [],
   "source": []
  },
  {
   "cell_type": "code",
   "execution_count": null,
   "metadata": {},
   "outputs": [],
   "source": []
  }
 ],
 "metadata": {
  "kernelspec": {
   "display_name": "Python 3",
   "language": "python",
   "name": "python3"
  },
  "language_info": {
   "codemirror_mode": {
    "name": "ipython",
    "version": 3
   },
   "file_extension": ".py",
   "mimetype": "text/x-python",
   "name": "python",
   "nbconvert_exporter": "python",
   "pygments_lexer": "ipython3",
   "version": "3.8.8"
  }
 },
 "nbformat": 4,
 "nbformat_minor": 4
}
